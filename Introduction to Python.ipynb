{
 "cells": [
  {
   "cell_type": "markdown",
   "id": "50e50892-0469-43a0-8ccd-7669cfb00ae1",
   "metadata": {},
   "source": [
    "## Introduction to Python"
   ]
  },
  {
   "cell_type": "code",
   "execution_count": null,
   "id": "156a5cbc-a624-4a52-a4a6-7e9cf7e0b30f",
   "metadata": {},
   "outputs": [],
   "source": []
  },
  {
   "cell_type": "markdown",
   "id": "0b80f9ff-fb50-4eda-b117-7d391e937dc8",
   "metadata": {},
   "source": [
    "#### What is Python"
   ]
  },
  {
   "cell_type": "markdown",
   "id": "0bfec71c-9d5d-4ef9-91c5-9214a87fee97",
   "metadata": {},
   "source": [
    "##### Definition: Python is a high-level, interpreted programming language known for its readability and simplicity."
   ]
  },
  {
   "cell_type": "code",
   "execution_count": 3,
   "id": "4f66165a-c165-4aa1-bc63-66ef585c80f7",
   "metadata": {},
   "outputs": [
    {
     "name": "stdout",
     "output_type": "stream",
     "text": [
      "Hello, World!\n"
     ]
    }
   ],
   "source": [
    "# Example: A simple program that prints \"Hello, World!\".\n",
    "print(\"Hello, World!\")"
   ]
  },
  {
   "cell_type": "markdown",
   "id": "ac1859e7-7c2e-4c87-a99c-2a6b321aa046",
   "metadata": {},
   "source": [
    "#### Why Python for AI and ML?"
   ]
  },
  {
   "cell_type": "markdown",
   "id": "5ae5d82a-f9e6-47f2-8082-4689afb32dcd",
   "metadata": {},
   "source": [
    "##### Ease of Use: Python’s syntax is clean and easy to understand.\n",
    "##### Rich Libraries: Libraries like NumPy, Pandas, and scikit-learn facilitate data manipulation and machine learning.\n",
    "##### Community Support: A large community helps with resources and troubleshooting."
   ]
  }
 ],
 "metadata": {
  "kernelspec": {
   "display_name": "Python 3 (ipykernel)",
   "language": "python",
   "name": "python3"
  },
  "language_info": {
   "codemirror_mode": {
    "name": "ipython",
    "version": 3
   },
   "file_extension": ".py",
   "mimetype": "text/x-python",
   "name": "python",
   "nbconvert_exporter": "python",
   "pygments_lexer": "ipython3",
   "version": "3.12.4"
  }
 },
 "nbformat": 4,
 "nbformat_minor": 5
}
