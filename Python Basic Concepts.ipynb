{
 "cells": [
  {
   "cell_type": "markdown",
   "id": "c4bc4512-e0e7-4250-a97c-944f2d601e85",
   "metadata": {},
   "source": [
    "#### Keywords and Variables"
   ]
  },
  {
   "cell_type": "markdown",
   "id": "8437d5fb-23dc-4b80-8554-4667a6a404f6",
   "metadata": {},
   "source": [
    "##### Definition and Examples:\n",
    "##### - Keywords: Reserved words that have special meaning (e.g., if, else, for).\n",
    "##### - Variables: Containers for storing data values"
   ]
  },
  {
   "cell_type": "code",
   "execution_count": 6,
   "id": "da57b542-bba0-43f4-87f6-66a763d529e9",
   "metadata": {},
   "outputs": [],
   "source": [
    "x = 10       # integer variable\n",
    "name = \"Alice\"  # string variable"
   ]
  },
  {
   "cell_type": "markdown",
   "id": "4b528508-0d37-4d19-8777-cecc1d179ae4",
   "metadata": {},
   "source": [
    "#### Naming Conventions:\n",
    "\n",
    "##### - Use descriptive names (e.g., age instead of a).\n",
    "##### - Variable names should start with a letter or underscore and can contain letters, numbers, and underscores."
   ]
  },
  {
   "cell_type": "code",
   "execution_count": null,
   "id": "f656a982-f107-41a3-9b37-df6c8d2af165",
   "metadata": {},
   "outputs": [],
   "source": [
    "# eg: variable name starting with underscore\n",
    "_name= \"Musnhid Rahman\""
   ]
  },
  {
   "cell_type": "markdown",
   "id": "edf9cd58-64c5-4079-bea4-0217d64e9065",
   "metadata": {},
   "source": [
    "#### Fetching User Input\n",
    "\n",
    "##### Using input() function"
   ]
  },
  {
   "cell_type": "code",
   "execution_count": null,
   "id": "491042bd-52c5-4b4d-8cd5-b99c56963956",
   "metadata": {},
   "outputs": [],
   "source": [
    "name = input(\"Enter your name: \")\n",
    "print(\"Hello, \" + name + \"!\")"
   ]
  },
  {
   "cell_type": "markdown",
   "id": "0fe79dfc-592e-49f6-804b-0640afa1ac13",
   "metadata": {},
   "source": [
    "#### Operators "
   ]
  },
  {
   "cell_type": "markdown",
   "id": "ed24b65e-a3b1-461d-a0ba-e57124b12b4b",
   "metadata": {},
   "source": [
    "##### Arithmetic Operators:"
   ]
  },
  {
   "cell_type": "code",
   "execution_count": 4,
   "id": "f64d11cc-a1de-4bfe-a455-f5eac78d656c",
   "metadata": {},
   "outputs": [
    {
     "name": "stdout",
     "output_type": "stream",
     "text": [
      "15\n",
      "5\n",
      "50\n",
      "2.0\n"
     ]
    }
   ],
   "source": [
    "# Basic mathematical operations\n",
    "\n",
    "a = 10\n",
    "b = 5\n",
    "print(a + b)  # Addition\n",
    "print(a - b)  # Subtraction\n",
    "print(a * b)  # Multiplication\n",
    "print(a / b)  # Division\n"
   ]
  },
  {
   "cell_type": "markdown",
   "id": "4f2e1926-4c86-4ba1-9c9a-f6191cb1b084",
   "metadata": {},
   "source": [
    "##### Comparison Operators:\n",
    "Used to compare values."
   ]
  },
  {
   "cell_type": "code",
   "execution_count": 3,
   "id": "9d75ca8b-42f5-40df-8ef1-93e9a1b2b91a",
   "metadata": {},
   "outputs": [
    {
     "name": "stdout",
     "output_type": "stream",
     "text": [
      "True\n",
      "False\n"
     ]
    }
   ],
   "source": [
    "print(a > b)  # Greater than\n",
    "print(a < b)  # Less than"
   ]
  },
  {
   "cell_type": "markdown",
   "id": "c9a77f7a-e18d-43f8-8c80-73bd6f0ce47c",
   "metadata": {},
   "source": [
    "##### Logical Operators:\n",
    "Used to combine conditional statements."
   ]
  },
  {
   "cell_type": "code",
   "execution_count": 5,
   "id": "6e1c6b0b-b864-4985-b439-4ea305c1b4e1",
   "metadata": {},
   "outputs": [
    {
     "name": "stdout",
     "output_type": "stream",
     "text": [
      "True\n",
      "True\n",
      "False\n"
     ]
    }
   ],
   "source": [
    "print(a > 5 and b < 10)  # Logical AND\n",
    "print(a < 5 or b < 10)   # Logical OR\n",
    "print(not (a > 5))       # Logical NOT"
   ]
  },
  {
   "cell_type": "markdown",
   "id": "4ca60cd4-5faa-476d-bee5-b5a0aca2bb68",
   "metadata": {},
   "source": [
    "#### Type Casting\n",
    "##### Converting Between Types:\n",
    "int, float, str:\n"
   ]
  },
  {
   "cell_type": "code",
   "execution_count": 6,
   "id": "ab334dd2-360e-44a2-8f76-b45f04148780",
   "metadata": {},
   "outputs": [],
   "source": [
    "\n",
    "# Converting to integer\n",
    "x = int(\"5\")  # x is now 5\n",
    "# Converting to float\n",
    "y = float(10) # y is now 10.0\n",
    "# Converting to string\n",
    "z = str(15)   # z is now \"15\""
   ]
  },
  {
   "cell_type": "markdown",
   "id": "52cf1e2f-6572-44f0-b85b-911a167b13a5",
   "metadata": {},
   "source": [
    "#### Conditional Statements\n",
    "##### if, elif, else statements:\n",
    "\n",
    "Control flow based on conditions"
   ]
  },
  {
   "cell_type": "code",
   "execution_count": 7,
   "id": "0693059e-d4d3-412f-ae8d-a51d74b839d7",
   "metadata": {},
   "outputs": [
    {
     "name": "stdout",
     "output_type": "stream",
     "text": [
      "Just an adult\n"
     ]
    }
   ],
   "source": [
    "age = 18\n",
    "if age < 18:\n",
    "    print(\"Minor\")\n",
    "elif age == 18:\n",
    "    print(\"Just an adult\")\n",
    "else:\n",
    "    print(\"Adult\")"
   ]
  },
  {
   "cell_type": "code",
   "execution_count": 8,
   "id": "ca6b29aa-ab8d-44e6-8c3c-53ce6249a757",
   "metadata": {},
   "outputs": [
    {
     "name": "stdin",
     "output_type": "stream",
     "text": [
      "Enter a number:  34\n"
     ]
    },
    {
     "name": "stdout",
     "output_type": "stream",
     "text": [
      "Even\n"
     ]
    }
   ],
   "source": [
    "# Simple Examples:\n",
    "number = int(input(\"Enter a number: \"))\n",
    "if number % 2 == 0:\n",
    "    print(\"Even\")\n",
    "else:\n",
    "    print(\"Odd\")"
   ]
  },
  {
   "cell_type": "markdown",
   "id": "10db7297-cf0b-48d5-b6f2-127fac6d410a",
   "metadata": {},
   "source": [
    "#### Loops"
   ]
  },
  {
   "cell_type": "markdown",
   "id": "070d844f-29e7-4e0e-b572-26ecf841ddec",
   "metadata": {},
   "source": [
    "##### for loops:\n",
    "\n",
    "Iterating over a sequence (like a list)"
   ]
  },
  {
   "cell_type": "code",
   "execution_count": 11,
   "id": "f42b4ed4-1653-4931-8962-cf6db17a6a88",
   "metadata": {},
   "outputs": [
    {
     "name": "stdout",
     "output_type": "stream",
     "text": [
      "0\n",
      "1\n",
      "2\n",
      "3\n",
      "4\n"
     ]
    }
   ],
   "source": [
    "for i in range(5):\n",
    "    print(i)  # Prints numbers from 0 to 4\n"
   ]
  },
  {
   "cell_type": "markdown",
   "id": "f7095f8d-b6a6-4c24-84ba-36b7f7f004e2",
   "metadata": {},
   "source": [
    "#### while loops:\n",
    "\n",
    "Repeats as long as a condition is true."
   ]
  },
  {
   "cell_type": "code",
   "execution_count": 13,
   "id": "87a4768f-1983-4696-a42e-aecb25b7d83a",
   "metadata": {},
   "outputs": [
    {
     "name": "stdout",
     "output_type": "stream",
     "text": [
      "0\n",
      "1\n",
      "2\n",
      "3\n",
      "4\n"
     ]
    }
   ],
   "source": [
    "count = 0\n",
    "while count < 5:\n",
    "    print(count)\n",
    "    count += 1"
   ]
  },
  {
   "cell_type": "markdown",
   "id": "b40bdc2d-8be8-4722-9fff-46d7dc982ba8",
   "metadata": {},
   "source": [
    "#### Break and Continue Statements:\n",
    "\n",
    "Break: Exits the loop"
   ]
  },
  {
   "cell_type": "code",
   "execution_count": 15,
   "id": "fed789f0-694c-4823-a3b5-32d84b9ce395",
   "metadata": {},
   "outputs": [
    {
     "name": "stdout",
     "output_type": "stream",
     "text": [
      "0\n",
      "1\n",
      "2\n"
     ]
    }
   ],
   "source": [
    "# Example: Stop the loop when i reaches 3\n",
    "for i in range(5):\n",
    "    if i == 3:\n",
    "        break\n",
    "    print(i)"
   ]
  },
  {
   "cell_type": "markdown",
   "id": "66dc20f0-f52a-47e7-a61f-55b00b116921",
   "metadata": {},
   "source": [
    "Continue: Skips the current iteration and continues with the next."
   ]
  },
  {
   "cell_type": "code",
   "execution_count": 17,
   "id": "c085b26e-6db7-4862-a8cc-aa1518285a13",
   "metadata": {},
   "outputs": [
    {
     "name": "stdout",
     "output_type": "stream",
     "text": [
      "0\n",
      "1\n",
      "2\n",
      "4\n"
     ]
    }
   ],
   "source": [
    "# Example: Skip printing 3.\n",
    "for i in range(5):\n",
    "    if i == 3:\n",
    "        continue\n",
    "    print(i)\n"
   ]
  },
  {
   "cell_type": "markdown",
   "id": "9d2fa7a9-8cfd-4fe9-bdc8-8301dc8712eb",
   "metadata": {},
   "source": [
    "#### 7. Data Structures"
   ]
  },
  {
   "cell_type": "markdown",
   "id": "9f704958-69b9-4865-b66b-1bdba642a250",
   "metadata": {},
   "source": [
    "##### Strings: Basic Operations:"
   ]
  },
  {
   "cell_type": "code",
   "execution_count": 18,
   "id": "d02cd0da-55a9-4966-87b0-b28676323de8",
   "metadata": {},
   "outputs": [
    {
     "name": "stdout",
     "output_type": "stream",
     "text": [
      "Hello\n",
      "Hello, World! How are you?\n"
     ]
    }
   ],
   "source": [
    "# Slicing and Concatenation:\n",
    "text = \"Hello, World!\"\n",
    "print(text[0:5])  # Slicing: \"Hello\"\n",
    "print(text + \" How are you?\")  # Concatenation"
   ]
  },
  {
   "cell_type": "markdown",
   "id": "8b3fce0b-46d5-4695-abf9-bb99be7c0597",
   "metadata": {},
   "source": [
    "##### Lists: Creation, Indexing, and Methods:"
   ]
  },
  {
   "cell_type": "code",
   "execution_count": 21,
   "id": "b884bc2c-52ae-4439-9207-e644c7846215",
   "metadata": {},
   "outputs": [
    {
     "name": "stdout",
     "output_type": "stream",
     "text": [
      "banana\n",
      "['apple', 'banana', 'cherry', 'orange']\n"
     ]
    }
   ],
   "source": [
    "# Example:\n",
    "fruits = [\"apple\", \"banana\", \"cherry\"]\n",
    "print(fruits[1])  # Indexing: \"banana\"\n",
    "fruits.append(\"orange\")  # Adding to list\n",
    "print(fruits)"
   ]
  },
  {
   "cell_type": "markdown",
   "id": "57bebf06-aa21-4cdb-b414-f8f0d3977858",
   "metadata": {},
   "source": [
    "##### Tuples: Immutable Sequences:"
   ]
  },
  {
   "cell_type": "code",
   "execution_count": 22,
   "id": "cfe36c4d-3188-4ccd-a71c-de87d603c2cb",
   "metadata": {},
   "outputs": [
    {
     "name": "stdout",
     "output_type": "stream",
     "text": [
      "10\n"
     ]
    }
   ],
   "source": [
    "# Example:\n",
    "point = (10, 20)\n",
    "print(point[0])  # Accessing element: 10"
   ]
  },
  {
   "cell_type": "markdown",
   "id": "ac8aa1be-47f3-40c5-b4ad-79fff0ac0de9",
   "metadata": {},
   "source": [
    "##### Sets: Unique Elements:"
   ]
  },
  {
   "cell_type": "code",
   "execution_count": 23,
   "id": "9ce30cd0-361d-4b7b-8b80-74807ee42984",
   "metadata": {},
   "outputs": [
    {
     "name": "stdout",
     "output_type": "stream",
     "text": [
      "{1, 2, 3}\n"
     ]
    }
   ],
   "source": [
    "# Example:\n",
    "unique_numbers = {1, 2, 3, 2}\n",
    "print(unique_numbers)  # Output: {1, 2, 3}"
   ]
  },
  {
   "cell_type": "markdown",
   "id": "8f220f29-e294-459b-a04f-73a60b5f5bf5",
   "metadata": {},
   "source": [
    "##### Dictionaries: Key-Value Pairs:"
   ]
  },
  {
   "cell_type": "code",
   "execution_count": 25,
   "id": "8fe8fee8-6f52-4751-bfba-0cdfc4ac1772",
   "metadata": {},
   "outputs": [
    {
     "name": "stdout",
     "output_type": "stream",
     "text": [
      "John\n"
     ]
    }
   ],
   "source": [
    "# Example:\n",
    "student = {\"name\": \"John\", \"age\": 25}\n",
    "print(student[\"name\"])  # Accessing value by key: \"John\""
   ]
  },
  {
   "cell_type": "markdown",
   "id": "8e57ae45-5523-44f6-a406-14f4983c82fd",
   "metadata": {},
   "source": [
    "#### 8. Functions"
   ]
  },
  {
   "cell_type": "markdown",
   "id": "b5ccec3d-5c88-4b6c-b50b-06dd1b59b988",
   "metadata": {},
   "source": [
    "##### Defining a Function:"
   ]
  },
  {
   "cell_type": "code",
   "execution_count": 27,
   "id": "9e5735a8-6802-496d-9429-1e69db91655a",
   "metadata": {},
   "outputs": [
    {
     "name": "stdout",
     "output_type": "stream",
     "text": [
      "Hello, Alice!\n"
     ]
    }
   ],
   "source": [
    "# Example:\n",
    "def greet(name):\n",
    "    return \"Hello, \" + name + \"!\"\n",
    "\n",
    "print(greet(\"Alice\"))\n"
   ]
  },
  {
   "cell_type": "markdown",
   "id": "b1b9699c-f58f-4140-bdcd-090d8289ca98",
   "metadata": {},
   "source": [
    "##### Parameters and Return Values:"
   ]
  },
  {
   "cell_type": "code",
   "execution_count": 28,
   "id": "1748893b-4d93-4974-98ee-3048b62552af",
   "metadata": {},
   "outputs": [
    {
     "name": "stdout",
     "output_type": "stream",
     "text": [
      "8\n"
     ]
    }
   ],
   "source": [
    "# Example:\n",
    "def add(a, b):\n",
    "    return a + b\n",
    "\n",
    "result = add(5, 3)\n",
    "print(result)  # Output: 8\n"
   ]
  },
  {
   "cell_type": "markdown",
   "id": "a014b4d4-937a-4e61-b7c1-6f825e90f149",
   "metadata": {},
   "source": [
    "##### Scope of Variables:"
   ]
  },
  {
   "cell_type": "code",
   "execution_count": 29,
   "id": "64e3f634-ba77-4075-8053-8d6777a002d8",
   "metadata": {},
   "outputs": [
    {
     "name": "stdout",
     "output_type": "stream",
     "text": [
      "local\n"
     ]
    }
   ],
   "source": [
    "# Example:\n",
    "def my_function():\n",
    "    x = \"local\"\n",
    "    print(x)\n",
    "\n",
    "my_function()\n",
    "# print(x)  # This will cause an error because x is not defined outside the function.\n"
   ]
  },
  {
   "cell_type": "code",
   "execution_count": null,
   "id": "d7a9b308-b094-4cd4-94b9-c77ea2565eaf",
   "metadata": {},
   "outputs": [],
   "source": []
  }
 ],
 "metadata": {
  "kernelspec": {
   "display_name": "Python 3 (ipykernel)",
   "language": "python",
   "name": "python3"
  },
  "language_info": {
   "codemirror_mode": {
    "name": "ipython",
    "version": 3
   },
   "file_extension": ".py",
   "mimetype": "text/x-python",
   "name": "python",
   "nbconvert_exporter": "python",
   "pygments_lexer": "ipython3",
   "version": "3.12.4"
  }
 },
 "nbformat": 4,
 "nbformat_minor": 5
}
